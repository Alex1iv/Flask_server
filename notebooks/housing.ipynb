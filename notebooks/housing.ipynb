{
 "cells": [
  {
   "cell_type": "code",
   "execution_count": 1,
   "metadata": {},
   "outputs": [],
   "source": [
    "from sklearn.datasets import fetch_california_housing\n",
    "from sklearn.model_selection import train_test_split\n",
    "from sklearn.linear_model import LinearRegression\n",
    "import numpy as np\n",
    "import pickle\n",
    "import os, sys\n",
    "# Hides output while after model learned\n",
    "from IPython.display import clear_output\n",
    "#set path\n",
    "sys.path.insert(1, '../')\n",
    "\n",
    "from utils.config_reader import config_reader\n",
    "# Import parameters\n",
    "config = config_reader('../config/config.json')\n",
    "random_state = config.random_seed\n",
    "path_models = config.path_models"
   ]
  },
  {
   "cell_type": "code",
   "execution_count": 2,
   "metadata": {},
   "outputs": [
    {
     "name": "stdout",
     "output_type": "stream",
     "text": [
      "(16512, 8) (4128, 8)\n",
      "sklearn model predict:\n",
      " [0.71912284 1.76401657 2.70965883 ... 4.46877017 1.18751119 2.00940251]\n"
     ]
    }
   ],
   "source": [
    "# загружаем данные\n",
    "X, y = fetch_california_housing(return_X_y=True) #load_boston(return_X_y=True) #as_frame=True,\n",
    "X_train, X_test, y_train, y_test = train_test_split(X, y, test_size=0.2, random_state=random_state)\n",
    "print(X_train.shape, X_test.shape)\n",
    "\n",
    "# обучаем модель\n",
    "model = LinearRegression()\n",
    "model.fit(X_train, y_train)\n",
    "\n",
    "# делаем инференс моделью на тесте\n",
    "test_pred = model.predict(X_test)\n",
    "print('sklearn model predict:\\n', test_pred)\n"
   ]
  },
  {
   "cell_type": "code",
   "execution_count": 3,
   "metadata": {},
   "outputs": [],
   "source": [
    "# Save the model\n",
    "with open(os.path.join(path_models + 'model.pkl'), 'wb') as output:\n",
    "    pickle.dump(model, output)"
   ]
  },
  {
   "cell_type": "code",
   "execution_count": 4,
   "metadata": {},
   "outputs": [
    {
     "data": {
      "text/plain": [
       "'../models/'"
      ]
     },
     "execution_count": 4,
     "metadata": {},
     "output_type": "execute_result"
    }
   ],
   "source": [
    "path_models"
   ]
  },
  {
   "cell_type": "code",
   "execution_count": 5,
   "metadata": {},
   "outputs": [],
   "source": [
    "# recover saved model\n",
    "with open(os.path.join(path_models + 'model.pkl'), 'rb') as f:\n",
    "    model_r = pickle.load(f)"
   ]
  },
  {
   "cell_type": "code",
   "execution_count": 6,
   "metadata": {},
   "outputs": [
    {
     "name": "stdout",
     "output_type": "stream",
     "text": [
      "sklearn model predict:\n",
      " [0.71912284 1.76401657 2.70965883 ... 4.46877017 1.18751119 2.00940251]\n"
     ]
    }
   ],
   "source": [
    "# делаем инференс моделью на тесте\n",
    "test_pred = model_r.predict(X_test)\n",
    "print('sklearn model predict:\\n', test_pred)"
   ]
  },
  {
   "cell_type": "code",
   "execution_count": 7,
   "metadata": {},
   "outputs": [
    {
     "data": {
      "text/plain": [
       "array([0.71912284, 1.76401657, 2.70965883, ..., 4.46877017, 1.18751119,\n",
       "       2.00940251])"
      ]
     },
     "execution_count": 7,
     "metadata": {},
     "output_type": "execute_result"
    }
   ],
   "source": [
    "res = [] \n",
    "for i in range(X_test.shape[0]):\n",
    "    res.append(model_r.predict(X_test[i,:].reshape(1,-1))[0])  \n",
    "np.array(res)"
   ]
  },
  {
   "cell_type": "code",
   "execution_count": 28,
   "metadata": {},
   "outputs": [],
   "source": [
    "from numpy.random import choice, randint\n",
    "idx = randint(X.shape[0], size=10)\n",
    "X_test, y_test = X[idx,:], y[idx]\n",
    "#X_test1 = X[choice(X.shape[0], 10, replace=False),:]\n",
    "#X_test1.shape\n",
    "#y_test1 = y[X_test1.index]\n"
   ]
  },
  {
   "cell_type": "code",
   "execution_count": 35,
   "metadata": {},
   "outputs": [
    {
     "data": {
      "text/plain": [
       "[4.375,\n",
       " 16.0,\n",
       " 4.909090909090909,\n",
       " 0.8181818181818182,\n",
       " 54.0,\n",
       " 2.4545454545454546,\n",
       " 37.91,\n",
       " -120.32]"
      ]
     },
     "execution_count": 35,
     "metadata": {},
     "output_type": "execute_result"
    }
   ],
   "source": [
    "X_test[0,:].tolist()"
   ]
  },
  {
   "cell_type": "code",
   "execution_count": null,
   "metadata": {},
   "outputs": [],
   "source": [
    "X_test1"
   ]
  }
 ],
 "metadata": {
  "kernelspec": {
   "display_name": "Python 3.10.7 64-bit",
   "language": "python",
   "name": "python3"
  },
  "language_info": {
   "codemirror_mode": {
    "name": "ipython",
    "version": 3
   },
   "file_extension": ".py",
   "mimetype": "text/x-python",
   "name": "python",
   "nbconvert_exporter": "python",
   "pygments_lexer": "ipython3",
   "version": "3.10.7"
  },
  "orig_nbformat": 4,
  "vscode": {
   "interpreter": {
    "hash": "26de051ba29f2982a8de78e945f0abaf191376122a1563185a90213a26c5da77"
   }
  }
 },
 "nbformat": 4,
 "nbformat_minor": 2
}
